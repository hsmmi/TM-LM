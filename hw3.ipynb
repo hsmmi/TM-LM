{
 "cells": [
  {
   "cell_type": "code",
   "execution_count": 1,
   "metadata": {},
   "outputs": [
    {
     "name": "stderr",
     "output_type": "stream",
     "text": [
      "[nltk_data] Downloading package punkt to /Users/hesoyam/nltk_data...\n",
      "[nltk_data]   Package punkt is already up-to-date!\n"
     ]
    }
   ],
   "source": [
    "# Read dataset\n",
    "from my_io import my_io\n",
    "from preproccessing import preproccessing"
   ]
  },
  {
   "attachments": {},
   "cell_type": "markdown",
   "metadata": {},
   "source": [
    "### Task 1"
   ]
  },
  {
   "cell_type": "code",
   "execution_count": 2,
   "metadata": {},
   "outputs": [],
   "source": [
    "dataset_path = \"./Dataset/\"\n",
    "dataset = my_io(dataset_path).read_jsons_from_folder()\n",
    "\n",
    "# Preproccessing\n",
    "tokens = preproccessing().tokenize(dataset)"
   ]
  },
  {
   "cell_type": "code",
   "execution_count": null,
   "metadata": {},
   "outputs": [],
   "source": [
    "remove_stop_word = preproccessing().remove_stop_word(tokens)\n",
    "\n",
    "normalization = preproccessing().normalization(remove_stop_word)\n",
    "\n",
    "stemming = preproccessing().stemming(normalization)\n",
    "\n",
    "remove_stop_word = preproccessing().remove_stop_word(stemming)\n",
    "\n",
    "# Save preproccessed dataset\n",
    "dataset = remove_stop_word\n",
    "\n",
    "print('pause')"
   ]
  },
  {
   "cell_type": "code",
   "execution_count": 4,
   "metadata": {},
   "outputs": [
    {
     "name": "stdout",
     "output_type": "stream",
     "text": [
      "pause\n"
     ]
    }
   ],
   "source": [
    "print('pause')"
   ]
  }
 ],
 "metadata": {
  "kernelspec": {
   "display_name": "Python 3",
   "language": "python",
   "name": "python3"
  },
  "language_info": {
   "codemirror_mode": {
    "name": "ipython",
    "version": 3
   },
   "file_extension": ".py",
   "mimetype": "text/x-python",
   "name": "python",
   "nbconvert_exporter": "python",
   "pygments_lexer": "ipython3",
   "version": "3.9.6"
  },
  "orig_nbformat": 4
 },
 "nbformat": 4,
 "nbformat_minor": 2
}
