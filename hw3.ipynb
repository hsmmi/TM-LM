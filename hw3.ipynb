{
 "cells": [
  {
   "cell_type": "markdown",
   "metadata": {},
   "source": [
    "Homework 3 of text mining course"
   ]
  },
  {
   "cell_type": "markdown",
   "metadata": {},
   "source": [
    "import lib"
   ]
  },
  {
   "cell_type": "code",
   "execution_count": 1,
   "metadata": {},
   "outputs": [],
   "source": [
    "import os\n",
    "from my_io import my_io\n",
    "from preproccessing import preproccessing\n",
    "from LM import LM"
   ]
  },
  {
   "cell_type": "markdown",
   "metadata": {},
   "source": [
    "Read data"
   ]
  },
  {
   "cell_type": "code",
   "execution_count": 2,
   "metadata": {},
   "outputs": [],
   "source": [
    "dataset_path = \"./Dataset/\"\n",
    "dataset = my_io(dataset_path).read_jsons_from_folder()"
   ]
  },
  {
   "cell_type": "markdown",
   "metadata": {},
   "source": [
    "Preprocess data"
   ]
  },
  {
   "cell_type": "code",
   "execution_count": 3,
   "metadata": {},
   "outputs": [],
   "source": [
    "# Prepare data file name\n",
    "data_file_name = \"preproccessed_dataset.json\"\n",
    "\n",
    "# Check if preproccessed dataset exists\n",
    "if not os.path.exists(data_file_name):\n",
    "    dataset = preproccessing().preproccess(dataset)\n",
    "    # Save preproccessed dataset\n",
    "    my_io().save_data(dataset, data_file_name)\n",
    "\n",
    "else:\n",
    "    dataset = my_io().load_data(data_file_name)\n",
    "\n"
   ]
  },
  {
   "cell_type": "markdown",
   "metadata": {},
   "source": [
    "Build Language Model"
   ]
  },
  {
   "cell_type": "code",
   "execution_count": 4,
   "metadata": {},
   "outputs": [],
   "source": [
    "unigram_model_file_name = \"unigram_model.pkl\"\n",
    "\n",
    "# Check if unigram model exists\n",
    "if os.path.exists(unigram_model_file_name):\n",
    "    unigram_model = my_io().load_data(unigram_model_file_name)\n",
    "else:\n",
    "    unigram_model = LM(dataset).estimate_unigram()\n",
    "    # Save unigram model\n",
    "    my_io().save_data(unigram_model, unigram_model_file_name)\n"
   ]
  },
  {
   "cell_type": "code",
   "execution_count": 5,
   "metadata": {},
   "outputs": [],
   "source": [
    "bigram_model_file_name = \"bigram_model.pkl\"\n",
    "\n",
    "# Check if bigram model exists\n",
    "if os.path.exists(bigram_model_file_name):\n",
    "    bigram_model = my_io().load_data(bigram_model_file_name)\n",
    "else:\n",
    "    bigram_model = LM(dataset).estimate_bigram()\n",
    "    # Save bigram model\n",
    "    my_io().save_data(bigram_model, bigram_model_file_name)"
   ]
  },
  {
   "cell_type": "markdown",
   "metadata": {},
   "source": [
    "Use MLE "
   ]
  },
  {
   "cell_type": "code",
   "execution_count": 6,
   "metadata": {},
   "outputs": [
    {
     "ename": "TypeError",
     "evalue": "find_top_words() missing 2 required positional arguments: 'k' and 'lambda_value'",
     "output_type": "error",
     "traceback": [
      "\u001b[0;31m---------------------------------------------------------------------------\u001b[0m",
      "\u001b[0;31mTypeError\u001b[0m                                 Traceback (most recent call last)",
      "Cell \u001b[0;32mIn[6], line 4\u001b[0m\n\u001b[1;32m      2\u001b[0m k \u001b[39m=\u001b[39m \u001b[39m10\u001b[39m\n\u001b[1;32m      3\u001b[0m lambda_value \u001b[39m=\u001b[39m \u001b[39m0.9\u001b[39m\n\u001b[0;32m----> 4\u001b[0m top_words \u001b[39m=\u001b[39m LM(dataset)\u001b[39m.\u001b[39;49mfind_top_words(unigram_model, bigram_model, word, k, lambda_value)\n\u001b[1;32m      6\u001b[0m \u001b[39mprint\u001b[39m(\u001b[39mf\u001b[39m\u001b[39m\"\u001b[39m\u001b[39mTop \u001b[39m\u001b[39m{\u001b[39;00mk\u001b[39m}\u001b[39;00m\u001b[39m words most likely to follow \u001b[39m\u001b[39m{\u001b[39;00mword\u001b[39m}\u001b[39;00m\u001b[39m are:\u001b[39m\u001b[39m\"\u001b[39m)\n\u001b[1;32m      7\u001b[0m \u001b[39mprint\u001b[39m(top_words)\n",
      "\u001b[0;31mTypeError\u001b[0m: find_top_words() missing 2 required positional arguments: 'k' and 'lambda_value'"
     ]
    }
   ],
   "source": [
    "word = \"decent\"\n",
    "k = 10\n",
    "lambda_value = 0.9\n",
    "top_words = LM(dataset).find_top_words(unigram_model, bigram_model, word, k, lambda_value)\n",
    "\n",
    "print(f\"Top {k} words most likely to follow {word} are:\")\n",
    "print(top_words)\n"
   ]
  }
 ],
 "metadata": {
  "kernelspec": {
   "display_name": "Python 3",
   "language": "python",
   "name": "python3"
  },
  "language_info": {
   "codemirror_mode": {
    "name": "ipython",
    "version": 3
   },
   "file_extension": ".py",
   "mimetype": "text/x-python",
   "name": "python",
   "nbconvert_exporter": "python",
   "pygments_lexer": "ipython3",
   "version": "3.9.6"
  },
  "orig_nbformat": 4
 },
 "nbformat": 4,
 "nbformat_minor": 2
}
