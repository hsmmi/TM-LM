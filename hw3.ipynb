{
 "cells": [
  {
   "cell_type": "markdown",
   "metadata": {},
   "source": [
    "Homework 3 of text mining course"
   ]
  },
  {
   "cell_type": "markdown",
   "metadata": {},
   "source": [
    "import lib"
   ]
  },
  {
   "cell_type": "code",
   "execution_count": 20,
   "metadata": {},
   "outputs": [],
   "source": [
    "import os\n",
    "from my_io import my_io\n",
    "from preproccessing import preproccessing\n",
    "from LM import LM"
   ]
  },
  {
   "cell_type": "markdown",
   "metadata": {},
   "source": [
    "Read data"
   ]
  },
  {
   "cell_type": "code",
   "execution_count": 21,
   "metadata": {},
   "outputs": [],
   "source": [
    "dataset_path = \"./Dataset/\"\n",
    "dataset = my_io(dataset_path).read_jsons_from_folder()"
   ]
  },
  {
   "cell_type": "markdown",
   "metadata": {},
   "source": [
    "Preprocess data"
   ]
  },
  {
   "cell_type": "code",
   "execution_count": 22,
   "metadata": {},
   "outputs": [],
   "source": [
    "# Prepare data file name\n",
    "data_file_name = \"Variable/preproccessed_dataset.json\"\n",
    "# Check if preproccessed dataset exists\n",
    "if not os.path.exists(data_file_name):\n",
    "    dataset = preproccessing().preproccess(dataset)\n",
    "    # Save preproccessed dataset\n",
    "    my_io().save_data(dataset, data_file_name)\n",
    "\n",
    "else:\n",
    "    dataset = my_io().load_data(data_file_name)\n",
    "\n"
   ]
  },
  {
   "cell_type": "markdown",
   "metadata": {},
   "source": [
    "Build Language Model"
   ]
  },
  {
   "cell_type": "code",
   "execution_count": 23,
   "metadata": {},
   "outputs": [],
   "source": [
    "unigram_model_file_name = \"Variable/unigram_model.pkl\"\n",
    "\n",
    "# Check if unigram model exists\n",
    "if os.path.exists(unigram_model_file_name):\n",
    "    unigram_model = my_io().load_data(unigram_model_file_name)\n",
    "else:\n",
    "    unigram_model = LM(dataset).estimate_unigram()\n",
    "    # Save unigram model\n",
    "    my_io().save_data(unigram_model, unigram_model_file_name)\n"
   ]
  },
  {
   "cell_type": "code",
   "execution_count": 24,
   "metadata": {},
   "outputs": [],
   "source": [
    "bigram_model_file_name = \"Variable/bigram_model.pkl\"\n",
    "\n",
    "# Check if bigram model exists\n",
    "if os.path.exists(bigram_model_file_name):\n",
    "    bigram_model = my_io().load_data(bigram_model_file_name)\n",
    "else:\n",
    "    bigram_model = LM(dataset).estimate_bigram()\n",
    "    # Save bigram model\n",
    "    my_io().save_data(bigram_model, bigram_model_file_name)"
   ]
  },
  {
   "cell_type": "markdown",
   "metadata": {},
   "source": [
    "Use MLE "
   ]
  },
  {
   "cell_type": "code",
   "execution_count": 25,
   "metadata": {},
   "outputs": [
    {
     "name": "stdout",
     "output_type": "stream",
     "text": [
      "Top 10 words most likely to follow (decent) are:\n",
      "╒════════╤═══════════════╕\n",
      "│ Word   │   Probability │\n",
      "╞════════╪═══════════════╡\n",
      "│ would  │         35.42 │\n",
      "├────────┼───────────────┤\n",
      "│ wine   │         15.8  │\n",
      "├────────┼───────────────┤\n",
      "│ worth  │         13.17 │\n",
      "├────────┼───────────────┤\n",
      "│ wing   │          8.76 │\n",
      "├────────┼───────────────┤\n",
      "│ work   │          7.3  │\n",
      "├────────┼───────────────┤\n",
      "│ whole  │          5.36 │\n",
      "├────────┼───────────────┤\n",
      "│ wish   │          4.93 │\n",
      "├────────┼───────────────┤\n",
      "│ yet    │          4.43 │\n",
      "├────────┼───────────────┤\n",
      "│ white  │          3.99 │\n",
      "├────────┼───────────────┤\n",
      "│ worthi │          0.85 │\n",
      "╘════════╧═══════════════╛\n"
     ]
    }
   ],
   "source": [
    "from tabulate import tabulate\n",
    "\n",
    "word = \"decent\"\n",
    "k = 10\n",
    "lambda_value = 0.9\n",
    "top_words = LM(dataset).find_top_words(\n",
    "    unigram_model, bigram_model, word, lambda_value, k\n",
    ")\n",
    "\n",
    "print(f\"Top {k} words most likely to follow ({word}) are:\")\n",
    "print(tabulate(top_words, headers=[\"Word\", \"Probability\"], tablefmt=\"fancy_grid\"))"
   ]
  }
 ],
 "metadata": {
  "kernelspec": {
   "display_name": "Python 3",
   "language": "python",
   "name": "python3"
  },
  "language_info": {
   "codemirror_mode": {
    "name": "ipython",
    "version": 3
   },
   "file_extension": ".py",
   "mimetype": "text/x-python",
   "name": "python",
   "nbconvert_exporter": "python",
   "pygments_lexer": "ipython3",
   "version": "3.9.6"
  },
  "orig_nbformat": 4
 },
 "nbformat": 4,
 "nbformat_minor": 2
}
